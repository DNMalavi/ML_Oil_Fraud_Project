{
 "cells": [
  {
   "cell_type": "markdown",
   "id": "3dcbf37d",
   "metadata": {},
   "source": [
    "<center><b> Part 1: Detecting Olive Oil Fraud Using Unsupervised Learning</b></center>"
   ]
  },
  {
   "cell_type": "markdown",
   "id": "9039dc77",
   "metadata": {},
   "source": [
    "This section of the project explores the use of unsupervised learning techniques to detect fraud in Extra-Virgin Olive Oil (EVOO) using **Near-Infrared Hyperspectral Imaging (NIR-HSI) data**."
   ]
  },
  {
   "cell_type": "markdown",
   "id": "17ffa03e",
   "metadata": {},
   "source": [
    "**Overview**\n",
    "\n",
    "- Objective: Apply **Principal Component Analysis (PCA)** for dimensionality reduction and K-Means clustering for unsupervised classification to identify patterns and potential adulteration in EVOO samples.\n",
    "- **Data**: Hyperspectral data from pure and adulterated EVOO samples, capturing the spectral fingerprint of each sample.\n",
    "- **Approach**: Use PCA to reduce data complexity and reveal key spectral features, followed by K-Means clustering to classify the samples based on spectral similarities."
   ]
  },
  {
   "cell_type": "markdown",
   "id": "9aaafb5c",
   "metadata": {},
   "source": [
    "**Key Files**\n",
    "\n",
    "\n",
    "- `data`/: Contains the NIR-HSI,GC-MS, FTIR, Uv-Vis data for EVOO samples.\n",
    "- `pca_analysis.R`: Script for performing PCA on the hyperspectral data.\n",
    "- `kmeans_clustering.R`: Script for applying K-Means clustering to the PCA-transformed data. results/: Output files including plots and clustering results."
   ]
  },
  {
   "cell_type": "markdown",
   "id": "39a6c26a",
   "metadata": {},
   "source": [
    "**How to Run**\n",
    "\n",
    "- Ensure that the data is in the data/ folder.\n",
    "- Run the pca_analysis.R script to perform PCA on the dataset.\n",
    "- Run the kmeans_clustering.R script to cluster the samples using K-Means."
   ]
  },
  {
   "cell_type": "markdown",
   "id": "c9d781af",
   "metadata": {},
   "source": [
    "**Results**\n",
    "\n",
    "- PCA reduces the dimensionality of the data while retaining the most significant spectral features.\n",
    "- K-Means clustering does not fully classify the samples into clusters, which should correspond to pure and adulterated EVOO."
   ]
  },
  {
   "cell_type": "markdown",
   "id": "28a8b7e8",
   "metadata": {},
   "source": [
    "**Next Steps** \n",
    "\n",
    "The insights from PCA and K-Means clustering lay the foundation for `Part 2`, which will focus on `supervised machine learning models` for further `classification` and detection of EVOO adulteration."
   ]
  }
 ],
 "metadata": {
  "kernelspec": {
   "display_name": "Python 3 (ipykernel)",
   "language": "python",
   "name": "python3"
  },
  "language_info": {
   "codemirror_mode": {
    "name": "ipython",
    "version": 3
   },
   "file_extension": ".py",
   "mimetype": "text/x-python",
   "name": "python",
   "nbconvert_exporter": "python",
   "pygments_lexer": "ipython3",
   "version": "3.11.5"
  }
 },
 "nbformat": 4,
 "nbformat_minor": 5
}
